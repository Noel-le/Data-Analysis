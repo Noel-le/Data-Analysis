{
 "cells": [
  {
   "cell_type": "markdown",
   "id": "e6d28f2f",
   "metadata": {},
   "source": [
    "# 출생아 수 및 합계출산율"
   ]
  },
  {
   "cell_type": "code",
   "execution_count": 1,
   "id": "1fcca93e",
   "metadata": {},
   "outputs": [
    {
     "data": {
      "text/html": [
       "<div>\n",
       "<style scoped>\n",
       "    .dataframe tbody tr th:only-of-type {\n",
       "        vertical-align: middle;\n",
       "    }\n",
       "\n",
       "    .dataframe tbody tr th {\n",
       "        vertical-align: top;\n",
       "    }\n",
       "\n",
       "    .dataframe thead th {\n",
       "        text-align: right;\n",
       "    }\n",
       "</style>\n",
       "<table border=\"1\" class=\"dataframe\">\n",
       "  <thead>\n",
       "    <tr style=\"text-align: right;\">\n",
       "      <th></th>\n",
       "      <th>2012</th>\n",
       "      <th>2013</th>\n",
       "      <th>2014</th>\n",
       "      <th>2015</th>\n",
       "      <th>2016</th>\n",
       "      <th>2017</th>\n",
       "      <th>2018</th>\n",
       "      <th>2019</th>\n",
       "      <th>2020</th>\n",
       "    </tr>\n",
       "  </thead>\n",
       "  <tbody>\n",
       "    <tr>\n",
       "      <th>출생아 수</th>\n",
       "      <td>484.600</td>\n",
       "      <td>436.500</td>\n",
       "      <td>435.400</td>\n",
       "      <td>438.400</td>\n",
       "      <td>406.200</td>\n",
       "      <td>357.800</td>\n",
       "      <td>326.800</td>\n",
       "      <td>302.700</td>\n",
       "      <td>272.30</td>\n",
       "    </tr>\n",
       "    <tr>\n",
       "      <th>합계 출산율</th>\n",
       "      <td>1.297</td>\n",
       "      <td>1.187</td>\n",
       "      <td>1.205</td>\n",
       "      <td>1.239</td>\n",
       "      <td>1.172</td>\n",
       "      <td>1.052</td>\n",
       "      <td>0.977</td>\n",
       "      <td>0.918</td>\n",
       "      <td>0.84</td>\n",
       "    </tr>\n",
       "  </tbody>\n",
       "</table>\n",
       "</div>"
      ],
      "text/plain": [
       "           2012     2013     2014     2015     2016     2017     2018  \\\n",
       "출생아 수   484.600  436.500  435.400  438.400  406.200  357.800  326.800   \n",
       "합계 출산율    1.297    1.187    1.205    1.239    1.172    1.052    0.977   \n",
       "\n",
       "           2019    2020  \n",
       "출생아 수   302.700  272.30  \n",
       "합계 출산율    0.918    0.84  "
      ]
     },
     "execution_count": 1,
     "metadata": {},
     "output_type": "execute_result"
    }
   ],
   "source": [
    "import pandas as pd\n",
    "df = pd.read_excel('stat_142801.xls', skiprows=2, nrows=2, index_col=0)\n",
    "df"
   ]
  },
  {
   "cell_type": "code",
   "execution_count": 3,
   "id": "d56bbaf7",
   "metadata": {},
   "outputs": [
    {
     "data": {
      "text/plain": [
       "array(['출생아\\xa0수', '합계\\xa0출산율'], dtype=object)"
      ]
     },
     "execution_count": 3,
     "metadata": {},
     "output_type": "execute_result"
    }
   ],
   "source": [
    "df.index.values"
   ]
  },
  {
   "cell_type": "code",
   "execution_count": 4,
   "id": "12386e2a",
   "metadata": {},
   "outputs": [
    {
     "data": {
      "text/html": [
       "<div>\n",
       "<style scoped>\n",
       "    .dataframe tbody tr th:only-of-type {\n",
       "        vertical-align: middle;\n",
       "    }\n",
       "\n",
       "    .dataframe tbody tr th {\n",
       "        vertical-align: top;\n",
       "    }\n",
       "\n",
       "    .dataframe thead th {\n",
       "        text-align: right;\n",
       "    }\n",
       "</style>\n",
       "<table border=\"1\" class=\"dataframe\">\n",
       "  <thead>\n",
       "    <tr style=\"text-align: right;\">\n",
       "      <th></th>\n",
       "      <th>2012</th>\n",
       "      <th>2013</th>\n",
       "      <th>2014</th>\n",
       "      <th>2015</th>\n",
       "      <th>2016</th>\n",
       "      <th>2017</th>\n",
       "      <th>2018</th>\n",
       "      <th>2019</th>\n",
       "      <th>2020</th>\n",
       "    </tr>\n",
       "  </thead>\n",
       "  <tbody>\n",
       "    <tr>\n",
       "      <th>출생아 수</th>\n",
       "      <td>484.600</td>\n",
       "      <td>436.500</td>\n",
       "      <td>435.400</td>\n",
       "      <td>438.400</td>\n",
       "      <td>406.200</td>\n",
       "      <td>357.800</td>\n",
       "      <td>326.800</td>\n",
       "      <td>302.700</td>\n",
       "      <td>272.30</td>\n",
       "    </tr>\n",
       "    <tr>\n",
       "      <th>합계 출산율</th>\n",
       "      <td>1.297</td>\n",
       "      <td>1.187</td>\n",
       "      <td>1.205</td>\n",
       "      <td>1.239</td>\n",
       "      <td>1.172</td>\n",
       "      <td>1.052</td>\n",
       "      <td>0.977</td>\n",
       "      <td>0.918</td>\n",
       "      <td>0.84</td>\n",
       "    </tr>\n",
       "  </tbody>\n",
       "</table>\n",
       "</div>"
      ],
      "text/plain": [
       "           2012     2013     2014     2015     2016     2017     2018  \\\n",
       "출생아 수   484.600  436.500  435.400  438.400  406.200  357.800  326.800   \n",
       "합계 출산율    1.297    1.187    1.205    1.239    1.172    1.052    0.977   \n",
       "\n",
       "           2019    2020  \n",
       "출생아 수   302.700  272.30  \n",
       "합계 출산율    0.918    0.84  "
      ]
     },
     "execution_count": 4,
     "metadata": {},
     "output_type": "execute_result"
    }
   ],
   "source": [
    "df.rename(index={'출생아\\xa0수':'출생아 수','합계\\xa0출산율':'합계 출산율' }, inplace=True)\n",
    "df"
   ]
  },
  {
   "cell_type": "code",
   "execution_count": 5,
   "id": "77cc4b6f",
   "metadata": {},
   "outputs": [
    {
     "data": {
      "text/plain": [
       "array(['출생아 수', '합계 출산율'], dtype=object)"
      ]
     },
     "execution_count": 5,
     "metadata": {},
     "output_type": "execute_result"
    }
   ],
   "source": [
    "df.index.values"
   ]
  },
  {
   "cell_type": "code",
   "execution_count": 6,
   "id": "d6cb1ed1",
   "metadata": {
    "scrolled": true
   },
   "outputs": [
    {
     "data": {
      "text/plain": [
       "2012    484.6\n",
       "2013    436.5\n",
       "2014    435.4\n",
       "2015    438.4\n",
       "2016    406.2\n",
       "2017    357.8\n",
       "2018    326.8\n",
       "2019    302.7\n",
       "2020    272.3\n",
       "Name: 출생아 수, dtype: float64"
      ]
     },
     "execution_count": 6,
     "metadata": {},
     "output_type": "execute_result"
    }
   ],
   "source": [
    "df.loc['출생아 수']"
   ]
  },
  {
   "cell_type": "code",
   "execution_count": 9,
   "id": "fb1e1786",
   "metadata": {},
   "outputs": [
    {
     "data": {
      "text/plain": [
       "2012    1.297\n",
       "2013    1.187\n",
       "2014    1.205\n",
       "2015    1.239\n",
       "2016    1.172\n",
       "2017    1.052\n",
       "2018    0.977\n",
       "2019    0.918\n",
       "2020    0.840\n",
       "Name: 합계 출산율, dtype: float64"
      ]
     },
     "execution_count": 9,
     "metadata": {},
     "output_type": "execute_result"
    }
   ],
   "source": [
    "df.loc['합계 출산율']"
   ]
  },
  {
   "cell_type": "code",
   "execution_count": 7,
   "id": "944f2239",
   "metadata": {},
   "outputs": [
    {
     "data": {
      "text/plain": [
       "2012    484.6\n",
       "2013    436.5\n",
       "2014    435.4\n",
       "2015    438.4\n",
       "2016    406.2\n",
       "2017    357.8\n",
       "2018    326.8\n",
       "2019    302.7\n",
       "2020    272.3\n",
       "Name: 출생아 수, dtype: float64"
      ]
     },
     "execution_count": 7,
     "metadata": {},
     "output_type": "execute_result"
    }
   ],
   "source": [
    "df.iloc[0]"
   ]
  },
  {
   "cell_type": "code",
   "execution_count": 8,
   "id": "6e6bbc52",
   "metadata": {},
   "outputs": [
    {
     "data": {
      "text/plain": [
       "2012    1.297\n",
       "2013    1.187\n",
       "2014    1.205\n",
       "2015    1.239\n",
       "2016    1.172\n",
       "2017    1.052\n",
       "2018    0.977\n",
       "2019    0.918\n",
       "2020    0.840\n",
       "Name: 합계 출산율, dtype: float64"
      ]
     },
     "execution_count": 8,
     "metadata": {},
     "output_type": "execute_result"
    }
   ],
   "source": [
    "df.iloc[1]"
   ]
  },
  {
   "cell_type": "code",
   "execution_count": 11,
   "id": "3bbd442d",
   "metadata": {},
   "outputs": [
    {
     "data": {
      "text/html": [
       "<div>\n",
       "<style scoped>\n",
       "    .dataframe tbody tr th:only-of-type {\n",
       "        vertical-align: middle;\n",
       "    }\n",
       "\n",
       "    .dataframe tbody tr th {\n",
       "        vertical-align: top;\n",
       "    }\n",
       "\n",
       "    .dataframe thead th {\n",
       "        text-align: right;\n",
       "    }\n",
       "</style>\n",
       "<table border=\"1\" class=\"dataframe\">\n",
       "  <thead>\n",
       "    <tr style=\"text-align: right;\">\n",
       "      <th></th>\n",
       "      <th>2012</th>\n",
       "      <th>2013</th>\n",
       "      <th>2014</th>\n",
       "      <th>2015</th>\n",
       "      <th>2016</th>\n",
       "      <th>2017</th>\n",
       "      <th>2018</th>\n",
       "      <th>2019</th>\n",
       "      <th>2020</th>\n",
       "    </tr>\n",
       "  </thead>\n",
       "  <tbody>\n",
       "    <tr>\n",
       "      <th>출생아 수</th>\n",
       "      <td>484.600</td>\n",
       "      <td>436.500</td>\n",
       "      <td>435.400</td>\n",
       "      <td>438.400</td>\n",
       "      <td>406.200</td>\n",
       "      <td>357.800</td>\n",
       "      <td>326.800</td>\n",
       "      <td>302.700</td>\n",
       "      <td>272.30</td>\n",
       "    </tr>\n",
       "    <tr>\n",
       "      <th>합계 출산율</th>\n",
       "      <td>1.297</td>\n",
       "      <td>1.187</td>\n",
       "      <td>1.205</td>\n",
       "      <td>1.239</td>\n",
       "      <td>1.172</td>\n",
       "      <td>1.052</td>\n",
       "      <td>0.977</td>\n",
       "      <td>0.918</td>\n",
       "      <td>0.84</td>\n",
       "    </tr>\n",
       "  </tbody>\n",
       "</table>\n",
       "</div>"
      ],
      "text/plain": [
       "           2012     2013     2014     2015     2016     2017     2018  \\\n",
       "출생아 수   484.600  436.500  435.400  438.400  406.200  357.800  326.800   \n",
       "합계 출산율    1.297    1.187    1.205    1.239    1.172    1.052    0.977   \n",
       "\n",
       "           2019    2020  \n",
       "출생아 수   302.700  272.30  \n",
       "합계 출산율    0.918    0.84  "
      ]
     },
     "execution_count": 11,
     "metadata": {},
     "output_type": "execute_result"
    }
   ],
   "source": [
    "df"
   ]
  },
  {
   "cell_type": "code",
   "execution_count": 12,
   "id": "337c0529",
   "metadata": {},
   "outputs": [
    {
     "data": {
      "text/html": [
       "<div>\n",
       "<style scoped>\n",
       "    .dataframe tbody tr th:only-of-type {\n",
       "        vertical-align: middle;\n",
       "    }\n",
       "\n",
       "    .dataframe tbody tr th {\n",
       "        vertical-align: top;\n",
       "    }\n",
       "\n",
       "    .dataframe thead th {\n",
       "        text-align: right;\n",
       "    }\n",
       "</style>\n",
       "<table border=\"1\" class=\"dataframe\">\n",
       "  <thead>\n",
       "    <tr style=\"text-align: right;\">\n",
       "      <th></th>\n",
       "      <th>출생아 수</th>\n",
       "      <th>합계 출산율</th>\n",
       "    </tr>\n",
       "  </thead>\n",
       "  <tbody>\n",
       "    <tr>\n",
       "      <th>2012</th>\n",
       "      <td>484.6</td>\n",
       "      <td>1.297</td>\n",
       "    </tr>\n",
       "    <tr>\n",
       "      <th>2013</th>\n",
       "      <td>436.5</td>\n",
       "      <td>1.187</td>\n",
       "    </tr>\n",
       "    <tr>\n",
       "      <th>2014</th>\n",
       "      <td>435.4</td>\n",
       "      <td>1.205</td>\n",
       "    </tr>\n",
       "    <tr>\n",
       "      <th>2015</th>\n",
       "      <td>438.4</td>\n",
       "      <td>1.239</td>\n",
       "    </tr>\n",
       "    <tr>\n",
       "      <th>2016</th>\n",
       "      <td>406.2</td>\n",
       "      <td>1.172</td>\n",
       "    </tr>\n",
       "    <tr>\n",
       "      <th>2017</th>\n",
       "      <td>357.8</td>\n",
       "      <td>1.052</td>\n",
       "    </tr>\n",
       "    <tr>\n",
       "      <th>2018</th>\n",
       "      <td>326.8</td>\n",
       "      <td>0.977</td>\n",
       "    </tr>\n",
       "    <tr>\n",
       "      <th>2019</th>\n",
       "      <td>302.7</td>\n",
       "      <td>0.918</td>\n",
       "    </tr>\n",
       "    <tr>\n",
       "      <th>2020</th>\n",
       "      <td>272.3</td>\n",
       "      <td>0.840</td>\n",
       "    </tr>\n",
       "  </tbody>\n",
       "</table>\n",
       "</div>"
      ],
      "text/plain": [
       "      출생아 수  합계 출산율\n",
       "2012  484.6   1.297\n",
       "2013  436.5   1.187\n",
       "2014  435.4   1.205\n",
       "2015  438.4   1.239\n",
       "2016  406.2   1.172\n",
       "2017  357.8   1.052\n",
       "2018  326.8   0.977\n",
       "2019  302.7   0.918\n",
       "2020  272.3   0.840"
      ]
     },
     "execution_count": 12,
     "metadata": {},
     "output_type": "execute_result"
    }
   ],
   "source": [
    "df.T"
   ]
  },
  {
   "cell_type": "code",
   "execution_count": 15,
   "id": "ecb35c53",
   "metadata": {},
   "outputs": [
    {
     "data": {
      "text/html": [
       "<div>\n",
       "<style scoped>\n",
       "    .dataframe tbody tr th:only-of-type {\n",
       "        vertical-align: middle;\n",
       "    }\n",
       "\n",
       "    .dataframe tbody tr th {\n",
       "        vertical-align: top;\n",
       "    }\n",
       "\n",
       "    .dataframe thead th {\n",
       "        text-align: right;\n",
       "    }\n",
       "</style>\n",
       "<table border=\"1\" class=\"dataframe\">\n",
       "  <thead>\n",
       "    <tr style=\"text-align: right;\">\n",
       "      <th></th>\n",
       "      <th>출생아 수</th>\n",
       "      <th>합계 출산율</th>\n",
       "    </tr>\n",
       "  </thead>\n",
       "  <tbody>\n",
       "    <tr>\n",
       "      <th>2012</th>\n",
       "      <td>484.6</td>\n",
       "      <td>1.297</td>\n",
       "    </tr>\n",
       "    <tr>\n",
       "      <th>2013</th>\n",
       "      <td>436.5</td>\n",
       "      <td>1.187</td>\n",
       "    </tr>\n",
       "    <tr>\n",
       "      <th>2014</th>\n",
       "      <td>435.4</td>\n",
       "      <td>1.205</td>\n",
       "    </tr>\n",
       "    <tr>\n",
       "      <th>2015</th>\n",
       "      <td>438.4</td>\n",
       "      <td>1.239</td>\n",
       "    </tr>\n",
       "    <tr>\n",
       "      <th>2016</th>\n",
       "      <td>406.2</td>\n",
       "      <td>1.172</td>\n",
       "    </tr>\n",
       "    <tr>\n",
       "      <th>2017</th>\n",
       "      <td>357.8</td>\n",
       "      <td>1.052</td>\n",
       "    </tr>\n",
       "    <tr>\n",
       "      <th>2018</th>\n",
       "      <td>326.8</td>\n",
       "      <td>0.977</td>\n",
       "    </tr>\n",
       "    <tr>\n",
       "      <th>2019</th>\n",
       "      <td>302.7</td>\n",
       "      <td>0.918</td>\n",
       "    </tr>\n",
       "    <tr>\n",
       "      <th>2020</th>\n",
       "      <td>272.3</td>\n",
       "      <td>0.840</td>\n",
       "    </tr>\n",
       "  </tbody>\n",
       "</table>\n",
       "</div>"
      ],
      "text/plain": [
       "      출생아 수  합계 출산율\n",
       "2012  484.6   1.297\n",
       "2013  436.5   1.187\n",
       "2014  435.4   1.205\n",
       "2015  438.4   1.239\n",
       "2016  406.2   1.172\n",
       "2017  357.8   1.052\n",
       "2018  326.8   0.977\n",
       "2019  302.7   0.918\n",
       "2020  272.3   0.840"
      ]
     },
     "execution_count": 15,
     "metadata": {},
     "output_type": "execute_result"
    }
   ],
   "source": [
    "df = df.T\n",
    "df"
   ]
  },
  {
   "cell_type": "code",
   "execution_count": 16,
   "id": "e0049f16",
   "metadata": {},
   "outputs": [],
   "source": [
    "import matplotlib.pyplot as plt\n",
    "import matplotlib\n",
    "matplotlib.rcParams['font.family'] = 'Malgun Gothic'\n",
    "matplotlib.rcParams['font.size'] = 15\n",
    "matplotlib.rcParams['axes.unicode_minus'] = False"
   ]
  },
  {
   "cell_type": "code",
   "execution_count": 18,
   "id": "5432f811",
   "metadata": {},
   "outputs": [
    {
     "data": {
      "text/plain": [
       "[<matplotlib.lines.Line2D at 0x2480360d100>]"
      ]
     },
     "execution_count": 18,
     "metadata": {},
     "output_type": "execute_result"
    },
    {
     "data": {
      "image/png": "[encoded data removed]",
      "text/plain": [
       "<Figure size 432x288 with 1 Axes>"
      ]
     },
     "metadata": {
      "needs_background": "light"
     },
     "output_type": "display_data"
    }
   ],
   "source": [
    "plt.plot(df.index, df['출생아 수'])\n",
    "plt.plot(df.index, df['합계 출산율'])"
   ]
  },
  {
   "cell_type": "code",
   "execution_count": 22,
   "id": "7ce8d5f5",
   "metadata": {},
   "outputs": [
    {
     "data": {
      "text/plain": [
       "[<matplotlib.lines.Line2D at 0x24803625d90>]"
      ]
     },
     "execution_count": 22,
     "metadata": {},
     "output_type": "execute_result"
    },
    {
     "data": {
      "image/png": "[encoded data removed]",
      "text/plain": [
       "<Figure size 1080x720 with 2 Axes>"
      ]
     },
     "metadata": {
      "needs_background": "light"
     },
     "output_type": "display_data"
    }
   ],
   "source": [
    "fig, ax1 = plt.subplots(figsize=(15,10))\n",
    "ax1.plot(df.index, df['출생아 수'], color = '#ff812d')\n",
    "ax2 = ax1.twinx()  #x축을공유하는 쌍둥이 axis\n",
    "ax2.plot(df.index, df['합계 출산율'], color = '#ffd100')"
   ]
  },
  {
   "cell_type": "code",
   "execution_count": 47,
   "id": "fb4e618f",
   "metadata": {},
   "outputs": [
    {
     "data": {
      "image/png": "[encoded data removed]",
      "text/plain": [
       "<Figure size 936x432 with 2 Axes>"
      ]
     },
     "metadata": {
      "needs_background": "light"
     },
     "output_type": "display_data"
    }
   ],
   "source": [
    "fig, ax1 = plt.subplots(figsize=(13,6))\n",
    "\n",
    "ax1.set_ylabel('출생아 수 (천 명)')\n",
    "ax1.bar(df.index, df['출생아 수'], color = '#ff812d')\n",
    "ax1.set_ylim(250, 700)\n",
    "ax1.set_yticks([300,400,500,600])\n",
    "for i, val in enumerate(df['출생아 수']):\n",
    "    ax1.text(i, val + 11, val, ha='center')\n",
    "    \n",
    "\n",
    "ax2 = ax1.twinx()  #x축을공유하는 쌍둥이 axis\n",
    "\n",
    "ax2.set_ylim\n",
    "ax2.set_ylabel('합계 출산율 (가임여성 1명당 명)')\n",
    "ax2.plot(df.index, df['합계 출산율'], color = '#ffd100', marker='o', ms=13, mec='w', mew=3, lw=4)\n",
    "ax2.set_ylim(0, 1.5)\n",
    "ax2.set_yticks([0,1])\n",
    "for i, val in enumerate(df['합계 출산율']):\n",
    "    ax2.text(i, val + 0.08, val, ha='center')\n",
    "    \n",
    "    \n",
    "fig.suptitle('출생아 수 및 합계출산율')\n",
    "\n",
    "plt.show()"
   ]
  },
  {
   "cell_type": "code",
   "execution_count": null,
   "id": "ef69c772",
   "metadata": {},
   "outputs": [],
   "source": []
  }
 ],
 "metadata": {
  "hide_input": false,
  "kernelspec": {
   "display_name": "Python 3",
   "language": "python",
   "name": "python3"
  },
  "language_info": {
   "codemirror_mode": {
    "name": "ipython",
    "version": 3
   },
   "file_extension": ".py",
   "mimetype": "text/x-python",
   "name": "python",
   "nbconvert_exporter": "python",
   "pygments_lexer": "ipython3",
   "version": "3.8.8"
  },
  "toc": {
   "base_numbering": 1,
   "nav_menu": {},
   "number_sections": true,
   "sideBar": true,
   "skip_h1_title": false,
   "title_cell": "Table of Contents",
   "title_sidebar": "Contents",
   "toc_cell": false,
   "toc_position": {},
   "toc_section_display": true,
   "toc_window_display": false
  }
 },
 "nbformat": 4,
 "nbformat_minor": 5
}
